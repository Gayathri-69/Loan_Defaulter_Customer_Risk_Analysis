{
 "metadata": {
  "kernelspec": {
   "display_name": "Streamlit Notebook",
   "name": "streamlit"
  },
  "lastEditStatus": {
   "notebookId": "5x3pglasjzs6orx2pvfs",
   "authorId": "7744707024364",
   "authorName": "GAYATHRI",
   "authorEmail": "gayathri.antervedi@anblicks.com",
   "sessionId": "71b6c50e-e6a0-49d0-8ec6-865cfb7ea06a",
   "lastEditTime": 1749959459516
  }
 },
 "nbformat_minor": 5,
 "nbformat": 4,
 "cells": [
  {
   "cell_type": "code",
   "id": "8d50cbf4-0c8d-4950-86cb-114990437ac9",
   "metadata": {
    "language": "python",
    "name": "cell2"
   },
   "source": "import numpy as np\nimport streamlit as st\nimport pandas as pd\nimport matplotlib.pyplot as plt\nimport seaborn as sns\nimport warnings\nfrom collections import Counter\nwarnings.filterwarnings('ignore')\n\nfrom snowflake.snowpark.context import get_active_session\nsession = get_active_session()\n\npd.set_option('display.max_columns', None)\npd.set_option('display.width', 150)\npd.set_option('display.float_format', '{:.2f}'.format)\n\n# --- Load data from the four specified tables ---\ndf_customers = session.table(\"BANKDATA.REFINED.REFINED_BANK_CUSTOMERS\").to_pandas()\ndf_assets = session.table(\"BANKDATA.REFINED.REFINED_BANK_CUSTOMER_ASSETS\").to_pandas()\ndf_loans = session.table(\"BANKDATA.REFINED.REFINED_BANK_LOANS\").to_pandas()\ndf_payments = session.table(\"BANKDATA.REFINED.REFINED_BANK_PAYMENTS\").to_pandas()\n\n# --- Pre-processing for loan-centric analysis ---\n\ndf_customers",
   "execution_count": null,
   "outputs": []
  },
  {
   "cell_type": "code",
   "id": "0736be63-a6bf-4fd9-aa4b-5e2f427c2560",
   "metadata": {
    "language": "python",
    "name": "cell1",
    "codeCollapsed": false
   },
   "outputs": [],
   "source": "# Remove commas from Phone_Number and Account_Number columns\ndf_customers['PHONE_NUMBER'] = df_customers['PHONE_NUMBER'].astype(str).str.replace(',', '', regex=False)\ndf_customers['INCOME(MONTH)'] = df_customers['INCOME(MONTH)'].astype(str).str.replace(',', '', regex=False)\n",
   "execution_count": null
  },
  {
   "cell_type": "code",
   "id": "e1187b68-c5dc-4916-b0ab-9afb69e01100",
   "metadata": {
    "language": "python",
    "name": "cell32",
    "codeCollapsed": false
   },
   "outputs": [],
   "source": "df_customers",
   "execution_count": null
  },
  {
   "cell_type": "code",
   "id": "62630a34-16c8-4d7d-8839-9f62ff414331",
   "metadata": {
    "language": "python",
    "name": "cell33",
    "codeCollapsed": false
   },
   "outputs": [],
   "source": "df_customers['EMAIL'] = df_customers.apply(\n    lambda row: f\"{row['FIRST_NAME'].lower()}.{row['LAST_NAME'].lower()}@gmail.com\" \n    if pd.isnull(row['EMAIL']) else row['EMAIL'], axis=1\n)",
   "execution_count": null
  },
  {
   "cell_type": "code",
   "id": "fcdf3ea2-c880-4cdc-aba5-7cfce26ecf70",
   "metadata": {
    "language": "python",
    "name": "cell6",
    "codeCollapsed": false,
    "collapsed": false
   },
   "outputs": [],
   "source": "Tables = [df_assets, df_customers, df_loans, df_payments]\ntable_names = [\"df_assets\", \"df_customers\", \"df_loans\", \"df_payments\"] # Added for clearer output\n\nfor i, table in enumerate(Tables):\n    print(f\"--- Analysis for {table_names[i]} ---\") # Clearly indicate which table is being analyzed\n    print(f\"Shape: {table.shape}\")\n    print(f\"Size: {table.size}\")\n    print(\"\\nTable Information:\")\n    table.info() # Call .info() directly, it prints to console and returns None\n    print(\"\\nMissing values per column:\")\n    print(table.isnull().sum())           # Handle missing values\n    print(\"\\nFirst 5 rows:\")\n    print(table.head())\n    print(\"-\" * 50) # Separator for clarity between tables\n    print(\"\\n\")\n",
   "execution_count": null
  },
  {
   "cell_type": "code",
   "id": "fab92657-fae9-4635-a94c-8dbedbc0eac1",
   "metadata": {
    "language": "python",
    "name": "cell14",
    "codeCollapsed": false
   },
   "outputs": [],
   "source": "# Step 1: Start with the base loan data\nloan_data = df_loans.copy()\n\n# Step 2: Merge customer details (including additional fields)\nloan_data = loan_data.merge(\n    df_customers[[\n        'CUSTOMER_ID', 'FIRST_NAME', 'LAST_NAME', 'ACCOUNT_NUMBER', 'PAN_NUMBER',\n        'INCOME(MONTH)', 'CIBIL_SCORE', 'AGE', 'GENDER', 'MARITAL_STATUS', 'EMPLOYMENT_STATUS'\n    ]],\n    on='CUSTOMER_ID',\n    how='left'\n)\n\n# Step 3: Prepare payment data\ndf_payments['TOTAL_PAID'] = df_payments['AMOUNT_PAID'].fillna(0)\n\n# Step 4: Aggregate payment info per loan\npayments_agg = df_payments.groupby('LOAN_ID').agg(\n    TOTAL_PAID=('TOTAL_PAID', 'sum'),\n    NUM_PAYMENTS=('LOAN_ID', 'count')\n).reset_index()\n\n# Step 5: Merge aggregated payments into loan_data\nloan_data = loan_data.merge(payments_agg, on='LOAN_ID', how='left')\n\n# Step 6: Get most recent STATUS per loan\ndf_payments['PAID_DATE'] = pd.to_datetime(df_payments['PAID_DATE'])\nlatest_status = df_payments.sort_values('PAID_DATE').groupby('LOAN_ID').tail(1)[['LOAN_ID', 'STATUS']]\n\n# Step 7: Merge latest status into loan_data\nloan_data = loan_data.merge(latest_status, on='LOAN_ID', how='left')\n\n# Step 8: Aggregate customer asset info\ncustomer_assets_agg = df_assets.groupby('CUSTOMER_ID').agg(\n    TOTAL_ASSET_WORTH=('ASSET_WORTH', 'sum'),\n    NUM_ASSETS=('ASSET_ID', 'count')\n).reset_index()\n\n# Step 9: Merge asset data into loan_data\nloan_data = loan_data.merge(customer_assets_agg, on='CUSTOMER_ID', how='left')\n\n",
   "execution_count": null
  },
  {
   "cell_type": "code",
   "id": "24ca4c6e-d9d4-4eda-a251-71e1d64df28f",
   "metadata": {
    "language": "python",
    "name": "cell35",
    "codeCollapsed": false
   },
   "outputs": [],
   "source": "# Step 1: Count number of loans per customer\nloans_per_customer = df_loans.groupby('CUSTOMER_ID').size().reset_index(name='NUM_LOANS')\n\n# Step 2: Merge into loan_data\nloan_data = loan_data.merge(loans_per_customer, on='CUSTOMER_ID', how='left')\n",
   "execution_count": null
  },
  {
   "cell_type": "code",
   "id": "7f1a07cd-2fd4-433b-9639-9e4ab99e8dd0",
   "metadata": {
    "language": "python",
    "name": "cell34",
    "codeCollapsed": false
   },
   "outputs": [],
   "source": "loan_data\n",
   "execution_count": null
  },
  {
   "cell_type": "code",
   "id": "d7e4078e-a5ee-49a7-83d2-8e7961e46d79",
   "metadata": {
    "language": "python",
    "name": "cell7",
    "codeCollapsed": false
   },
   "outputs": [],
   "source": "loan_data['TOTAL_PAID'] = loan_data['TOTAL_PAID'].fillna(0)\nloan_data['NUM_PAYMENTS'] = loan_data['NUM_PAYMENTS'].fillna(0)\nloan_data['STATUS']=loan_data['STATUS'].fillna('NO PAYMENT')",
   "execution_count": null
  },
  {
   "cell_type": "code",
   "id": "dc5e6cfe-dc55-4ed5-8ab7-73383bb91376",
   "metadata": {
    "language": "python",
    "name": "cell27",
    "codeCollapsed": false
   },
   "outputs": [],
   "source": "loan_data",
   "execution_count": null
  },
  {
   "cell_type": "code",
   "id": "0f552857-9772-4a69-b0c9-08b6da7ce100",
   "metadata": {
    "language": "python",
    "name": "cell13",
    "codeCollapsed": false
   },
   "outputs": [],
   "source": "# Step 1: Define the ordinal columns\ncat_cols_ordinal = ['GENDER', 'EMPLOYMENT_STATUS', 'MARITAL_STATUS']\n\n# Step 2: Group by CUSTOMER_ID and take the first occurrence of each ordinal column\nunique_customers = loan_data.groupby('CUSTOMER_ID')[cat_cols_ordinal].first().reset_index()\n\n# Step 3: Now perform value_counts on each column using only unique customers\nfor col in cat_cols_ordinal:\n    print(f\"\\nValue counts for '{col}':\")\n    print(unique_customers[col].value_counts())\n",
   "execution_count": null
  },
  {
   "cell_type": "code",
   "id": "66e82941-ce69-455c-ba99-e1687b655ca4",
   "metadata": {
    "language": "python",
    "name": "cell5",
    "codeCollapsed": false
   },
   "outputs": [],
   "source": "print(loan_data['LOAN_STATUS'].value_counts(),\nloan_data['STATUS'].value_counts())",
   "execution_count": null
  },
  {
   "cell_type": "code",
   "id": "accde410-4860-4251-8d25-8fcd9cb4e71f",
   "metadata": {
    "language": "python",
    "name": "cell11",
    "codeCollapsed": false
   },
   "outputs": [],
   "source": "# Standardize values in LOAN_STATUS\nloan_data['LOAN_STATUS'] = loan_data['LOAN_STATUS'].replace({\n    'ONGOING': 'Active'\n})\n\n# Standardize values in STATUS\nloan_data['STATUS'] = loan_data['STATUS'].replace({\n    'Bounced': 'Skipped',\n    'ONTIME': 'Paid'\n})\n",
   "execution_count": null
  },
  {
   "cell_type": "code",
   "id": "158541fe-183e-4ae9-9f7a-9080271b608c",
   "metadata": {
    "language": "python",
    "name": "cell8",
    "codeCollapsed": false
   },
   "outputs": [],
   "source": "loan_data.dtypes",
   "execution_count": null
  },
  {
   "cell_type": "code",
   "id": "82dc2b3e-4a49-49f5-9357-96c4dc1e36c6",
   "metadata": {
    "language": "python",
    "name": "cell3",
    "codeCollapsed": false
   },
   "outputs": [],
   "source": "num_cols_continous=['AGE','INCOME(MONTH)','CIBIL_SCORE','NUM_PAYMENTS','TOTAL_PAID','TOTAL_ASSET_WORTH']\nloan_data[num_cols_continous].describe()",
   "execution_count": null
  },
  {
   "cell_type": "code",
   "id": "7a359a17-f72e-4e62-ad2e-10bc9aa9ee80",
   "metadata": {
    "language": "python",
    "name": "cell12",
    "codeCollapsed": false
   },
   "outputs": [],
   "source": "sns.set(style=\"whitegrid\")\n\n# Define columns\npie_cols = ['GENDER', 'MARITAL_STATUS', 'LOAN_STATUS']\nbar_cols = ['EMPLOYMENT_STATUS', 'LOAN_TYPE', 'STATUS']\n\n# Merge all columns to process\ncat_cols_ordinal = pie_cols + bar_cols\n\nfor col in cat_cols_ordinal:\n    if col in ['LOAN_TYPE', 'LOAN_STATUS', 'STATUS']:\n        # Handle list-like strings: split and flatten\n        expanded = loan_data[col].dropna().apply(lambda x: [i.strip() for i in x.split(',')])\n        flat_list = [item for sublist in expanded for item in sublist]\n        counts = pd.Series(flat_list).value_counts()\n    else:\n        # For normal categorical columns\n        counts = loan_data[col].dropna().value_counts()\n    \n    if col in pie_cols:\n        # Pie chart\n        plt.figure(figsize=(4, 4))\n        plt.pie(counts, labels=counts.index, autopct='%1.1f%%', colors=sns.color_palette('Set2'), startangle=140)\n        plt.title(f'Distribution of {col} (Pie Chart)')\n        plt.axis('equal')\n        plt.tight_layout()\n        plt.show()\n    else:\n        # Bar chart\n        plt.figure(figsize=(6, 3))\n        sns.barplot(x=counts.index, y=counts.values, palette='Set2')\n        plt.title(f'Distribution of {col} (Bar Graph)')\n        plt.xlabel(col)\n        plt.ylabel(\"Count\")\n        plt.xticks(rotation=45)\n        plt.tight_layout()\n        plt.show()\n",
   "execution_count": null
  },
  {
   "cell_type": "code",
   "id": "ce650b20-794d-43bf-a062-419f5044cb85",
   "metadata": {
    "language": "python",
    "name": "cell10",
    "codeCollapsed": false
   },
   "outputs": [],
   "source": "\n# 7. Visualizations\n\n# Distribution of AGE\nplt.figure(figsize=(8,4))\nsns.histplot(loan_data['AGE'].dropna(), bins=30, kde=True)\nplt.title(\"Age Distribution\")\nplt.show()\n\n# Income distribution\nplt.figure(figsize=(8,4))\nsns.histplot(loan_data['INCOME(MONTH)'].dropna(), bins=30, kde=True)\nplt.title(\"Income Distribution\")\nplt.show()\n\n# CIBIL_Score distribution\nplt.figure(figsize=(8,4))\nsns.histplot(loan_data['CIBIL_SCORE'].dropna(), bins=30, kde=True)\nplt.title(\"CIBIL Score Distribution\")\nplt.show()\n\n# Bar plot for Gender counts\nplt.figure(figsize=(6,4))\nsns.countplot(data=loan_data, x='GENDER')\nplt.title(\"Gender Counts\")\nplt.show()\n\n# Marital Status counts\nplt.figure(figsize=(6,4))\nsns.countplot(data=loan_data, x='MARITAL_STATUS')\nplt.title(\"Marital Status Counts\")\nplt.show()\n\n# Employment Status counts\nplt.figure(figsize=(6,4))\nsns.countplot(data=loan_data, x='EMPLOYMENT_STATUS')\nplt.title(\"Employment Status Counts\")\nplt.show()\n\n# 8. Correlation heatmap of numeric columns\nnumeric_cols = [\n    \"AGE\", \"INCOME(MONTH)\", \"CIBIL_SCORE\", \n    \"NUM_PAYMENTS\",  \"TOTAL_PAID\", \"TOTAL_ASSET_WORTH\"\n]\n\nplt.figure(figsize=(12, 8))\ncorr = loan_data[numeric_cols].corr()\nsns.heatmap(corr, annot=True, fmt=\".2f\", cmap='coolwarm')\nplt.title(\"Correlation Heatmap\")\nplt.show()\n\n# 9. Top 5 customers by Total Loan Amount\n# print(\"\\nTop 5 customers by Total Loan Amount_paid:\")\n# print(loan_data.sort_values(by=\"TOTAL_PAID\", ascending=False).head(5))\nprint(\"\\nTop 5 unique customers by Total Loan Amount Paid:\")\ntop_customers = (\n    loan_data.groupby(\"CUSTOMER_ID\")[\"TOTAL_PAID\"]\n    .sum()\n    .reset_index()\n    .sort_values(by=\"TOTAL_PAID\", ascending=False)\n    .head(5)\n)\nprint(top_customers)\n\n# 10. Outlier detection for Income and Total_Asset_Worth using boxplots\n\nplt.figure(figsize=(8,4))\nsns.boxplot(x=loan_data['INCOME(MONTH)'])\nplt.title(\"Income Boxplot\")\nplt.show()\n\nplt.figure(figsize=(8,4))\nsns.boxplot(x=loan_data['TOTAL_ASSET_WORTH'])\nplt.title(\"Total Asset Worth Boxplot\")\nplt.show()\n",
   "execution_count": null
  },
  {
   "cell_type": "code",
   "id": "ca110910-3ec8-404a-a57f-5ace09e6f38f",
   "metadata": {
    "language": "python",
    "name": "cell16",
    "codeCollapsed": false
   },
   "outputs": [],
   "source": "loan_data",
   "execution_count": null
  },
  {
   "cell_type": "markdown",
   "id": "d060373c-4d4a-4e5a-8222-d08a64fb0568",
   "metadata": {
    "name": "cell9",
    "collapsed": false
   },
   "source": "CALCULATING DEFAULT_STATUS\n"
  },
  {
   "cell_type": "code",
   "id": "83f0f3b8-1fbf-47f1-afeb-bc05e1ceecfa",
   "metadata": {
    "language": "python",
    "name": "cell18",
    "codeCollapsed": false
   },
   "outputs": [],
   "source": "loan_data",
   "execution_count": null
  },
  {
   "cell_type": "code",
   "id": "44817ab0-62f7-49e8-b9c4-75034f09bbc5",
   "metadata": {
    "language": "python",
    "name": "cell37",
    "codeCollapsed": false
   },
   "outputs": [],
   "source": "import pandas as pd\nfrom datetime import datetime\n\n\n# Step 1: Calculate days difference from today\ncurrent_date = pd.to_datetime(datetime.today())\nloan_data['DAYS_DIFFERENCE'] = (current_date - loan_data['ISSUE_DATE']).dt.days\n\n# Step 2: Convert days to months (approximate)\nloan_data['MONTHS'] = round(loan_data['DAYS_DIFFERENCE'] / 30)\n\n# Step 3: Calculate missed months\nloan_data['MISSED_MONTHS'] = loan_data['MONTHS'] - loan_data['NUM_PAYMENTS']\n\n# Step 4: Flag = 0 if fully paid, 1 otherwise\nloan_data['FLAG'] = loan_data.apply(lambda row: 0 if row['NUM_PAYMENTS'] == row['TERM_MONTHS'] else 1, axis=1)\n\n# Step 5: Determine default status\ndef determine_status(row):\n    if row['FLAG'] == 0:\n        return 'Non-Defaulter'\n    elif row['MISSED_MONTHS'] > 3:\n        return 'Defaulter'\n    else:\n        return 'Non-Defaulter'\n\nloan_data['DEFAULT_STATUS'] = loan_data.apply(determine_status, axis=1)\n\n",
   "execution_count": null
  },
  {
   "cell_type": "code",
   "id": "d2ef0926-9421-4b40-be6f-6a4fd73f10fb",
   "metadata": {
    "language": "python",
    "name": "cell44",
    "codeCollapsed": false
   },
   "outputs": [],
   "source": "loan_data",
   "execution_count": null
  },
  {
   "cell_type": "code",
   "id": "69ae75ca-7235-421e-bf95-480d64bf0728",
   "metadata": {
    "language": "python",
    "name": "cell38",
    "codeCollapsed": false
   },
   "outputs": [],
   "source": "loan_data['DEFAULT_STATUS'].value_counts()",
   "execution_count": null
  },
  {
   "cell_type": "code",
   "id": "febdc5e4-d5e5-4e85-bc93-53c5de1e7e95",
   "metadata": {
    "language": "python",
    "name": "cell42",
    "codeCollapsed": false
   },
   "outputs": [],
   "source": "loan_data['LOAN_STATUS'].value_counts()",
   "execution_count": null
  },
  {
   "cell_type": "markdown",
   "id": "452e41e2-5143-4fa5-bb79-3ab499128502",
   "metadata": {
    "name": "cell17",
    "collapsed": false
   },
   "source": "Adding to performance_metrics( default_status  per customer  )"
  },
  {
   "cell_type": "code",
   "id": "cf223594-c429-49a3-b026-9ba2ea2e7308",
   "metadata": {
    "language": "python",
    "name": "cell39"
   },
   "outputs": [],
   "source": "\n# Group by customer to get aggregated metrics\nperformance_metrics = loan_data.groupby('CUSTOMER_ID', as_index=False).agg({\n    'EMI': 'sum',\n    'INCOME(MONTH)': 'first',\n    'DEFAULT_STATUS': lambda x: 'Defaulter' if 'Defaulter' in x.values else 'Non-Defaulter'\n})",
   "execution_count": null
  },
  {
   "cell_type": "code",
   "id": "891cd513-5ca8-4539-92ce-50d13bbe2713",
   "metadata": {
    "language": "python",
    "name": "cell40",
    "codeCollapsed": false
   },
   "outputs": [],
   "source": "performance_metrics['DEFAULT_STATUS'].value_counts()",
   "execution_count": null
  },
  {
   "cell_type": "code",
   "id": "9dbd8702-d34e-4644-b8b2-050a7724ee2b",
   "metadata": {
    "language": "python",
    "name": "cell47",
    "codeCollapsed": false
   },
   "outputs": [],
   "source": "performance_metrics = loan_data.groupby('CUSTOMER_ID', as_index=False).agg({\n    'EMI': 'sum',\n    'INCOME(MONTH)': 'first',\n    'DEFAULT_STATUS': lambda x: 'Defaulter' if 'Defaulter' in x.values else 'Non-Defaulter'\n})\n\n# Step 6: Convert income to numeric\nperformance_metrics['INCOME(MONTH)'] = pd.to_numeric(performance_metrics['INCOME(MONTH)'], errors='coerce')\nperformance_metrics['DTI_RATIO'] = performance_metrics['EMI'] / performance_metrics['INCOME(MONTH)']\n",
   "execution_count": null
  },
  {
   "cell_type": "code",
   "id": "3c4ec4db-e477-49c2-bdaf-26180ca46a83",
   "metadata": {
    "language": "python",
    "name": "cell49",
    "codeCollapsed": false
   },
   "outputs": [],
   "source": "performance_metrics['DTI_RATIO'].describe()",
   "execution_count": null
  },
  {
   "cell_type": "code",
   "id": "fcc64d3b-de5c-494a-9ac0-ed41d2811d9f",
   "metadata": {
    "language": "python",
    "name": "cell48",
    "codeCollapsed": false
   },
   "outputs": [],
   "source": "\n# Step 8: Classify DTI Risk Level\ndef classify_dti_risk(dti):\n    if dti <= 1.0:\n        return 'Low'\n    elif dti <= 2.0:\n        return 'Moderate'\n    elif dti <= 3.0:\n        return 'Elevated'\n    else:\n        return 'High'\n\nperformance_metrics['DTI_RISK_LEVEL'] = performance_metrics['DTI_RATIO'].apply(classify_dti_risk)",
   "execution_count": null
  },
  {
   "cell_type": "code",
   "id": "9bf5214e-d4fb-414a-952a-c1016190015c",
   "metadata": {
    "language": "python",
    "name": "cell41",
    "codeCollapsed": false
   },
   "outputs": [],
   "source": "performance_metrics.dtypes",
   "execution_count": null
  },
  {
   "cell_type": "code",
   "id": "90337417-b404-4337-8c44-5c257fdbe14c",
   "metadata": {
    "language": "python",
    "name": "cell4",
    "codeCollapsed": false
   },
   "outputs": [],
   "source": "performance_metrics['DTI_RISK_LEVEL'].value_counts()",
   "execution_count": null
  },
  {
   "cell_type": "code",
   "id": "18a81ddd-8d69-4688-a2bb-d81662111423",
   "metadata": {
    "language": "python",
    "name": "cell19",
    "codeCollapsed": false
   },
   "outputs": [],
   "source": "loan_data",
   "execution_count": null
  },
  {
   "cell_type": "code",
   "id": "4affdc86-32d0-4281-8e49-227d637ad329",
   "metadata": {
    "language": "python",
    "name": "cell20",
    "codeCollapsed": false
   },
   "outputs": [],
   "source": "loan_data['ISSUE_DATE'] = pd.to_datetime(loan_data['ISSUE_DATE']).dt.strftime('%Y-%m-%d')\n# Keep ISSUE_DATE as datetime object, do NOT convert to string\nloan_data['ISSUE_DATE'] = pd.to_datetime(loan_data['ISSUE_DATE']).dt.date\n\n",
   "execution_count": null
  },
  {
   "cell_type": "code",
   "id": "e721436f-81e8-44f3-84bb-69bf966cd72b",
   "metadata": {
    "language": "python",
    "name": "cell24",
    "codeCollapsed": false
   },
   "outputs": [],
   "source": "loan_data.dtypes",
   "execution_count": null
  },
  {
   "cell_type": "code",
   "id": "20507e46-99ba-461c-9f71-d24e80cf7117",
   "metadata": {
    "language": "python",
    "name": "cell21",
    "codeCollapsed": false
   },
   "outputs": [],
   "source": "\n\n# Step 3: Write to Snowflake — Snowflake will auto-cast 'YYYY-MM-DD' strings to TIMESTAMP_NTZ\nsession.write_pandas(\n    loan_data,\n    table_name=\"LOAN_SUMMARY\",\n    database=\"BANKDATA\",\n    schema=\"REPORTING\",\n    overwrite=True,\n)\n",
   "execution_count": null
  },
  {
   "cell_type": "code",
   "id": "20a86141-6ab2-4063-a7f8-3dadd1394d03",
   "metadata": {
    "language": "python",
    "name": "cell30",
    "codeCollapsed": false
   },
   "outputs": [],
   "source": "\n# Save to Snowflake\nsession.write_pandas(\n    performance_metrics,\n    table_name=\"PERFORMANCE_METRICS\",\n    database=\"BANKDATA\",\n    schema=\"REPORTING\",\n    overwrite=True\n)",
   "execution_count": null
  },
  {
   "cell_type": "code",
   "id": "2d277454-e4cf-48a5-85e2-55790016ca2b",
   "metadata": {
    "language": "python",
    "name": "cell45"
   },
   "outputs": [],
   "source": "print(performance_metrics.columns)\n",
   "execution_count": null
  },
  {
   "cell_type": "code",
   "id": "bd3fd3bb-bb19-4b2f-93c5-5ba0b354808d",
   "metadata": {
    "language": "sql",
    "name": "cell22",
    "codeCollapsed": false
   },
   "outputs": [],
   "source": "-- CREATE OR REPLACE PROCEDURE truncate_raw_tables()\n-- RETURNS STRING\n-- LANGUAGE SQL\n-- AS\n-- $$\n-- BEGIN\n--     TRUNCATE TABLE RAW.BANK_CUSTOMERS;\n--     TRUNCATE TABLE RAW.BANK_CUSTOMER_ASSETS;  \n--     TRUNCATE TABLE RAW.BANK_LOANS;\n--     TRUNCATE TABLE RAW.BANK_PAYMENTS;\n    \n--     RETURN 'All RAW tables truncated.';\n-- END;\n-- $$;\n",
   "execution_count": null
  },
  {
   "cell_type": "code",
   "id": "6c4c5548-ba71-492c-96d1-8d7b0d2707e0",
   "metadata": {
    "language": "sql",
    "name": "cell23",
    "codeCollapsed": false
   },
   "outputs": [],
   "source": "-- CALL truncate_raw_tables();\n",
   "execution_count": null
  }
 ]
}